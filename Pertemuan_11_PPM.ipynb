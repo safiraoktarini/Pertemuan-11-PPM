{
  "nbformat": 4,
  "nbformat_minor": 0,
  "metadata": {
    "colab": {
      "name": "Pertemuan 11 PPM.ipynb",
      "provenance": [],
      "collapsed_sections": []
    },
    "kernelspec": {
      "name": "python3",
      "display_name": "Python 3"
    },
    "language_info": {
      "name": "python"
    }
  },
  "cells": [
    {
      "cell_type": "markdown",
      "source": [
        "# CNN\n",
        "\n",
        "Contoh Implementasi CNN untuk klasifikasi kamar clean dan messy\n",
        "\n",
        "dataset:\n",
        "https://www.kaggle.com/datasets/cdawn1/messy-vs-clean-room"
      ],
      "metadata": {
        "id": "LfeyLcBOb7lb"
      }
    },
    {
      "cell_type": "code",
      "source": [
        "import tensorflow as tf\n",
        "print(tf.__version__)"
      ],
      "metadata": {
        "id": "0wFlqkCVcEfN",
        "colab": {
          "base_uri": "https://localhost:8080/"
        },
        "outputId": "89b40045-c9f5-453f-d943-160faea7ac1d"
      },
      "execution_count": 2,
      "outputs": [
        {
          "output_type": "stream",
          "name": "stdout",
          "text": [
            "2.8.0\n"
          ]
        }
      ]
    },
    {
      "cell_type": "code",
      "source": [
        "!wget --no-check-certificate \\\n",
        "  https://github.com/WildanBudiawanZ/pembelajaran-mesin/blob/main/mcr2.zip?raw=true \\\n",
        "  -O /tmp/mcr.zip"
      ],
      "metadata": {
        "colab": {
          "base_uri": "https://localhost:8080/"
        },
        "id": "_4MZr0E0gkfn",
        "outputId": "447fde10-0fdf-4a31-cdb7-7d3303bb776e"
      },
      "execution_count": 3,
      "outputs": [
        {
          "output_type": "stream",
          "name": "stdout",
          "text": [
            "--2022-05-18 01:14:10--  https://github.com/WildanBudiawanZ/pembelajaran-mesin/blob/main/mcr2.zip?raw=true\n",
            "Resolving github.com (github.com)... 140.82.121.4\n",
            "Connecting to github.com (github.com)|140.82.121.4|:443... connected.\n",
            "HTTP request sent, awaiting response... 302 Found\n",
            "Location: https://github.com/WildanBudiawanZ/pembelajaran-mesin/raw/main/mcr2.zip [following]\n",
            "--2022-05-18 01:14:10--  https://github.com/WildanBudiawanZ/pembelajaran-mesin/raw/main/mcr2.zip\n",
            "Reusing existing connection to github.com:443.\n",
            "HTTP request sent, awaiting response... 302 Found\n",
            "Location: https://raw.githubusercontent.com/WildanBudiawanZ/pembelajaran-mesin/main/mcr2.zip [following]\n",
            "--2022-05-18 01:14:11--  https://raw.githubusercontent.com/WildanBudiawanZ/pembelajaran-mesin/main/mcr2.zip\n",
            "Resolving raw.githubusercontent.com (raw.githubusercontent.com)... 185.199.108.133, 185.199.109.133, 185.199.110.133, ...\n",
            "Connecting to raw.githubusercontent.com (raw.githubusercontent.com)|185.199.108.133|:443... connected.\n",
            "HTTP request sent, awaiting response... 200 OK\n",
            "Length: 70216442 (67M) [application/zip]\n",
            "Saving to: ‘/tmp/mcr.zip’\n",
            "\n",
            "/tmp/mcr.zip        100%[===================>]  66.96M   291MB/s    in 0.2s    \n",
            "\n",
            "2022-05-18 01:14:14 (291 MB/s) - ‘/tmp/mcr.zip’ saved [70216442/70216442]\n",
            "\n"
          ]
        }
      ]
    },
    {
      "cell_type": "code",
      "source": [
        "# melakukan ekstraksi pada file zip\n",
        "import zipfile,os\n",
        "os.listdir('/tmp/')"
      ],
      "metadata": {
        "colab": {
          "base_uri": "https://localhost:8080/"
        },
        "id": "2-bGRbA-gHGO",
        "outputId": "d2c6deb0-7ec8-4efd-a8e9-a0558031bcf5"
      },
      "execution_count": 4,
      "outputs": [
        {
          "output_type": "execute_result",
          "data": {
            "text/plain": [
              "['initgoogle_syslog_dir.0',\n",
              " 'pyright-99-u7u6GZuf6FIM',\n",
              " 'pyright-99-AGmSsAfG09sc',\n",
              " 'dap_multiplexer.6f6a0b3c885b.root.log.INFO.20220518-010845.45',\n",
              " 'mcr.zip',\n",
              " 'dap_multiplexer.INFO',\n",
              " 'debugger_1u9vq5o1jm',\n",
              " 'python-languageserver-cancellation']"
            ]
          },
          "metadata": {},
          "execution_count": 4
        }
      ]
    },
    {
      "cell_type": "code",
      "source": [
        "!unzip '/tmp/mcr.zip' -d '/tmp/mcr'"
      ],
      "metadata": {
        "colab": {
          "base_uri": "https://localhost:8080/"
        },
        "id": "-m8u5JpRefgl",
        "outputId": "c8b42e7c-40e6-4f36-daca-103378dd8dc7"
      },
      "execution_count": 5,
      "outputs": [
        {
          "output_type": "stream",
          "name": "stdout",
          "text": [
            "Archive:  /tmp/mcr.zip\n",
            "   creating: /tmp/mcr/images/\n",
            "   creating: /tmp/mcr/images/images/\n",
            "   creating: /tmp/mcr/images/images/test/\n",
            "  inflating: /tmp/mcr/images/images/test/0.png  \n",
            "  inflating: /tmp/mcr/images/images/test/1.png  \n",
            "  inflating: /tmp/mcr/images/images/test/2.png  \n",
            "  inflating: /tmp/mcr/images/images/test/3.png  \n",
            "  inflating: /tmp/mcr/images/images/test/4.png  \n",
            "  inflating: /tmp/mcr/images/images/test/5.png  \n",
            "  inflating: /tmp/mcr/images/images/test/6.png  \n",
            "  inflating: /tmp/mcr/images/images/test/7.png  \n",
            "  inflating: /tmp/mcr/images/images/test/8.png  \n",
            "  inflating: /tmp/mcr/images/images/test/9.png  \n",
            "   creating: /tmp/mcr/images/images/train/\n",
            "   creating: /tmp/mcr/images/images/train/clean/\n",
            "  inflating: /tmp/mcr/images/images/train/clean/0.png  \n",
            "  inflating: /tmp/mcr/images/images/train/clean/1.png  \n",
            "  inflating: /tmp/mcr/images/images/train/clean/10.png  \n",
            "  inflating: /tmp/mcr/images/images/train/clean/11.png  \n",
            "  inflating: /tmp/mcr/images/images/train/clean/12.png  \n",
            "  inflating: /tmp/mcr/images/images/train/clean/13.png  \n",
            "  inflating: /tmp/mcr/images/images/train/clean/14.png  \n",
            "  inflating: /tmp/mcr/images/images/train/clean/15.png  \n",
            "  inflating: /tmp/mcr/images/images/train/clean/16.png  \n",
            "  inflating: /tmp/mcr/images/images/train/clean/17.png  \n",
            "  inflating: /tmp/mcr/images/images/train/clean/18.png  \n",
            "  inflating: /tmp/mcr/images/images/train/clean/19.png  \n",
            "  inflating: /tmp/mcr/images/images/train/clean/2.png  \n",
            "  inflating: /tmp/mcr/images/images/train/clean/20.png  \n",
            "  inflating: /tmp/mcr/images/images/train/clean/21.png  \n",
            "  inflating: /tmp/mcr/images/images/train/clean/22.png  \n",
            "  inflating: /tmp/mcr/images/images/train/clean/23.png  \n",
            "  inflating: /tmp/mcr/images/images/train/clean/24.png  \n",
            "  inflating: /tmp/mcr/images/images/train/clean/25.png  \n",
            "  inflating: /tmp/mcr/images/images/train/clean/26.png  \n",
            "  inflating: /tmp/mcr/images/images/train/clean/27.png  \n",
            "  inflating: /tmp/mcr/images/images/train/clean/28.png  \n",
            "  inflating: /tmp/mcr/images/images/train/clean/29.png  \n",
            "  inflating: /tmp/mcr/images/images/train/clean/3.png  \n",
            "  inflating: /tmp/mcr/images/images/train/clean/30.png  \n",
            "  inflating: /tmp/mcr/images/images/train/clean/31.png  \n",
            "  inflating: /tmp/mcr/images/images/train/clean/32.png  \n",
            "  inflating: /tmp/mcr/images/images/train/clean/33.png  \n",
            "  inflating: /tmp/mcr/images/images/train/clean/34.png  \n",
            "  inflating: /tmp/mcr/images/images/train/clean/35.png  \n",
            "  inflating: /tmp/mcr/images/images/train/clean/36.png  \n",
            "  inflating: /tmp/mcr/images/images/train/clean/37.png  \n",
            "  inflating: /tmp/mcr/images/images/train/clean/38.png  \n",
            "  inflating: /tmp/mcr/images/images/train/clean/39.png  \n",
            "  inflating: /tmp/mcr/images/images/train/clean/4.png  \n",
            "  inflating: /tmp/mcr/images/images/train/clean/40.png  \n",
            "  inflating: /tmp/mcr/images/images/train/clean/41.png  \n",
            "  inflating: /tmp/mcr/images/images/train/clean/42.png  \n",
            "  inflating: /tmp/mcr/images/images/train/clean/43.png  \n",
            "  inflating: /tmp/mcr/images/images/train/clean/44.png  \n",
            "  inflating: /tmp/mcr/images/images/train/clean/45.png  \n",
            "  inflating: /tmp/mcr/images/images/train/clean/46.png  \n",
            "  inflating: /tmp/mcr/images/images/train/clean/47.png  \n",
            "  inflating: /tmp/mcr/images/images/train/clean/48.png  \n",
            "  inflating: /tmp/mcr/images/images/train/clean/49.png  \n",
            "  inflating: /tmp/mcr/images/images/train/clean/5.png  \n",
            "  inflating: /tmp/mcr/images/images/train/clean/50.png  \n",
            "  inflating: /tmp/mcr/images/images/train/clean/51.png  \n",
            "  inflating: /tmp/mcr/images/images/train/clean/52.png  \n",
            "  inflating: /tmp/mcr/images/images/train/clean/53.png  \n",
            "  inflating: /tmp/mcr/images/images/train/clean/54.png  \n",
            "  inflating: /tmp/mcr/images/images/train/clean/55.png  \n",
            "  inflating: /tmp/mcr/images/images/train/clean/56.png  \n",
            "  inflating: /tmp/mcr/images/images/train/clean/57.png  \n",
            "  inflating: /tmp/mcr/images/images/train/clean/58.png  \n",
            "  inflating: /tmp/mcr/images/images/train/clean/59.png  \n",
            "  inflating: /tmp/mcr/images/images/train/clean/6.png  \n",
            "  inflating: /tmp/mcr/images/images/train/clean/60.png  \n",
            "  inflating: /tmp/mcr/images/images/train/clean/61.png  \n",
            "  inflating: /tmp/mcr/images/images/train/clean/62.png  \n",
            "  inflating: /tmp/mcr/images/images/train/clean/63.png  \n",
            "  inflating: /tmp/mcr/images/images/train/clean/64.png  \n",
            "  inflating: /tmp/mcr/images/images/train/clean/65.png  \n",
            "  inflating: /tmp/mcr/images/images/train/clean/66.png  \n",
            "  inflating: /tmp/mcr/images/images/train/clean/67.png  \n",
            "  inflating: /tmp/mcr/images/images/train/clean/68.png  \n",
            "  inflating: /tmp/mcr/images/images/train/clean/69.png  \n",
            "  inflating: /tmp/mcr/images/images/train/clean/7.png  \n",
            "  inflating: /tmp/mcr/images/images/train/clean/70.png  \n",
            "  inflating: /tmp/mcr/images/images/train/clean/71.png  \n",
            "  inflating: /tmp/mcr/images/images/train/clean/72.png  \n",
            "  inflating: /tmp/mcr/images/images/train/clean/73.png  \n",
            "  inflating: /tmp/mcr/images/images/train/clean/74.png  \n",
            "  inflating: /tmp/mcr/images/images/train/clean/75.png  \n",
            "  inflating: /tmp/mcr/images/images/train/clean/76.png  \n",
            "  inflating: /tmp/mcr/images/images/train/clean/77.png  \n",
            "  inflating: /tmp/mcr/images/images/train/clean/78.png  \n",
            "  inflating: /tmp/mcr/images/images/train/clean/79.png  \n",
            "  inflating: /tmp/mcr/images/images/train/clean/8.png  \n",
            "  inflating: /tmp/mcr/images/images/train/clean/80.png  \n",
            "  inflating: /tmp/mcr/images/images/train/clean/81.png  \n",
            "  inflating: /tmp/mcr/images/images/train/clean/82.png  \n",
            "  inflating: /tmp/mcr/images/images/train/clean/83.png  \n",
            "  inflating: /tmp/mcr/images/images/train/clean/84.png  \n",
            "  inflating: /tmp/mcr/images/images/train/clean/85.png  \n",
            "  inflating: /tmp/mcr/images/images/train/clean/86.png  \n",
            "  inflating: /tmp/mcr/images/images/train/clean/87.png  \n",
            "  inflating: /tmp/mcr/images/images/train/clean/88.png  \n",
            "  inflating: /tmp/mcr/images/images/train/clean/89.png  \n",
            "  inflating: /tmp/mcr/images/images/train/clean/9.png  \n",
            "  inflating: /tmp/mcr/images/images/train/clean/90.png  \n",
            "  inflating: /tmp/mcr/images/images/train/clean/91.png  \n",
            "  inflating: /tmp/mcr/images/images/train/clean/92.png  \n",
            "  inflating: /tmp/mcr/images/images/train/clean/93.png  \n",
            "  inflating: /tmp/mcr/images/images/train/clean/94.png  \n",
            "  inflating: /tmp/mcr/images/images/train/clean/95.png  \n",
            "   creating: /tmp/mcr/images/images/train/messy/\n",
            "  inflating: /tmp/mcr/images/images/train/messy/0.png  \n",
            " extracting: /tmp/mcr/images/images/train/messy/1.png  \n",
            "  inflating: /tmp/mcr/images/images/train/messy/10.png  \n",
            "  inflating: /tmp/mcr/images/images/train/messy/11.png  \n",
            "  inflating: /tmp/mcr/images/images/train/messy/12.png  \n",
            "  inflating: /tmp/mcr/images/images/train/messy/13.png  \n",
            "  inflating: /tmp/mcr/images/images/train/messy/14.png  \n",
            " extracting: /tmp/mcr/images/images/train/messy/15.png  \n",
            " extracting: /tmp/mcr/images/images/train/messy/16.png  \n",
            "  inflating: /tmp/mcr/images/images/train/messy/17.png  \n",
            "  inflating: /tmp/mcr/images/images/train/messy/18.png  \n",
            "  inflating: /tmp/mcr/images/images/train/messy/19.png  \n",
            "  inflating: /tmp/mcr/images/images/train/messy/2.png  \n",
            "  inflating: /tmp/mcr/images/images/train/messy/20.png  \n",
            "  inflating: /tmp/mcr/images/images/train/messy/21.png  \n",
            "  inflating: /tmp/mcr/images/images/train/messy/22.png  \n",
            " extracting: /tmp/mcr/images/images/train/messy/23.png  \n",
            "  inflating: /tmp/mcr/images/images/train/messy/24.png  \n",
            " extracting: /tmp/mcr/images/images/train/messy/25.png  \n",
            "  inflating: /tmp/mcr/images/images/train/messy/26.png  \n",
            " extracting: /tmp/mcr/images/images/train/messy/27.png  \n",
            " extracting: /tmp/mcr/images/images/train/messy/28.png  \n",
            "  inflating: /tmp/mcr/images/images/train/messy/29.png  \n",
            "  inflating: /tmp/mcr/images/images/train/messy/3.png  \n",
            "  inflating: /tmp/mcr/images/images/train/messy/30.png  \n",
            "  inflating: /tmp/mcr/images/images/train/messy/31.png  \n",
            "  inflating: /tmp/mcr/images/images/train/messy/32.png  \n",
            "  inflating: /tmp/mcr/images/images/train/messy/33.png  \n",
            "  inflating: /tmp/mcr/images/images/train/messy/34.png  \n",
            "  inflating: /tmp/mcr/images/images/train/messy/35.png  \n",
            "  inflating: /tmp/mcr/images/images/train/messy/36.png  \n",
            "  inflating: /tmp/mcr/images/images/train/messy/37.png  \n",
            "  inflating: /tmp/mcr/images/images/train/messy/38.png  \n",
            "  inflating: /tmp/mcr/images/images/train/messy/39.png  \n",
            "  inflating: /tmp/mcr/images/images/train/messy/4.png  \n",
            "  inflating: /tmp/mcr/images/images/train/messy/40.png  \n",
            "  inflating: /tmp/mcr/images/images/train/messy/41.png  \n",
            "  inflating: /tmp/mcr/images/images/train/messy/42.png  \n",
            "  inflating: /tmp/mcr/images/images/train/messy/43.png  \n",
            "  inflating: /tmp/mcr/images/images/train/messy/44.png  \n",
            "  inflating: /tmp/mcr/images/images/train/messy/45.png  \n",
            "  inflating: /tmp/mcr/images/images/train/messy/46.png  \n",
            "  inflating: /tmp/mcr/images/images/train/messy/47.png  \n",
            "  inflating: /tmp/mcr/images/images/train/messy/48.png  \n",
            " extracting: /tmp/mcr/images/images/train/messy/49.png  \n",
            "  inflating: /tmp/mcr/images/images/train/messy/5.png  \n",
            "  inflating: /tmp/mcr/images/images/train/messy/50.png  \n",
            "  inflating: /tmp/mcr/images/images/train/messy/51.png  \n",
            "  inflating: /tmp/mcr/images/images/train/messy/52.png  \n",
            "  inflating: /tmp/mcr/images/images/train/messy/53.png  \n",
            " extracting: /tmp/mcr/images/images/train/messy/54.png  \n",
            " extracting: /tmp/mcr/images/images/train/messy/55.png  \n",
            "  inflating: /tmp/mcr/images/images/train/messy/56.png  \n",
            "  inflating: /tmp/mcr/images/images/train/messy/57.png  \n",
            " extracting: /tmp/mcr/images/images/train/messy/58.png  \n",
            "  inflating: /tmp/mcr/images/images/train/messy/59.png  \n",
            "  inflating: /tmp/mcr/images/images/train/messy/6.png  \n",
            "  inflating: /tmp/mcr/images/images/train/messy/60.png  \n",
            "  inflating: /tmp/mcr/images/images/train/messy/61.png  \n",
            "  inflating: /tmp/mcr/images/images/train/messy/62.png  \n",
            "  inflating: /tmp/mcr/images/images/train/messy/63.png  \n",
            "  inflating: /tmp/mcr/images/images/train/messy/64.png  \n",
            "  inflating: /tmp/mcr/images/images/train/messy/65.png  \n",
            "  inflating: /tmp/mcr/images/images/train/messy/66.png  \n",
            "  inflating: /tmp/mcr/images/images/train/messy/67.png  \n",
            "  inflating: /tmp/mcr/images/images/train/messy/68.png  \n",
            "  inflating: /tmp/mcr/images/images/train/messy/69.png  \n",
            "  inflating: /tmp/mcr/images/images/train/messy/7.png  \n",
            "  inflating: /tmp/mcr/images/images/train/messy/70.png  \n",
            "  inflating: /tmp/mcr/images/images/train/messy/71.png  \n",
            "  inflating: /tmp/mcr/images/images/train/messy/72.png  \n",
            " extracting: /tmp/mcr/images/images/train/messy/73.png  \n",
            "  inflating: /tmp/mcr/images/images/train/messy/74.png  \n",
            "  inflating: /tmp/mcr/images/images/train/messy/75.png  \n",
            "  inflating: /tmp/mcr/images/images/train/messy/76.png  \n",
            "  inflating: /tmp/mcr/images/images/train/messy/77.png  \n",
            " extracting: /tmp/mcr/images/images/train/messy/78.png  \n",
            "  inflating: /tmp/mcr/images/images/train/messy/79.png  \n",
            "  inflating: /tmp/mcr/images/images/train/messy/8.png  \n",
            "  inflating: /tmp/mcr/images/images/train/messy/80.png  \n",
            "  inflating: /tmp/mcr/images/images/train/messy/81.png  \n",
            "  inflating: /tmp/mcr/images/images/train/messy/82.png  \n",
            "  inflating: /tmp/mcr/images/images/train/messy/83.png  \n",
            "  inflating: /tmp/mcr/images/images/train/messy/84.png  \n",
            "  inflating: /tmp/mcr/images/images/train/messy/85.png  \n",
            "  inflating: /tmp/mcr/images/images/train/messy/86.png  \n",
            "  inflating: /tmp/mcr/images/images/train/messy/87.png  \n",
            "  inflating: /tmp/mcr/images/images/train/messy/88.png  \n",
            "  inflating: /tmp/mcr/images/images/train/messy/89.png  \n",
            " extracting: /tmp/mcr/images/images/train/messy/9.png  \n",
            " extracting: /tmp/mcr/images/images/train/messy/90.png  \n",
            "  inflating: /tmp/mcr/images/images/train/messy/91.png  \n",
            "  inflating: /tmp/mcr/images/images/train/messy/92.png  \n",
            "  inflating: /tmp/mcr/images/images/train/messy/93.png  \n",
            "  inflating: /tmp/mcr/images/images/train/messy/94.png  \n",
            " extracting: /tmp/mcr/images/images/train/messy/95.png  \n",
            "   creating: /tmp/mcr/images/images/val/\n",
            "   creating: /tmp/mcr/images/images/val/clean/\n",
            "  inflating: /tmp/mcr/images/images/val/clean/0.png  \n",
            "  inflating: /tmp/mcr/images/images/val/clean/1.png  \n",
            "  inflating: /tmp/mcr/images/images/val/clean/2.png  \n",
            "  inflating: /tmp/mcr/images/images/val/clean/3.png  \n",
            "  inflating: /tmp/mcr/images/images/val/clean/4.png  \n",
            "  inflating: /tmp/mcr/images/images/val/clean/5.png  \n",
            "  inflating: /tmp/mcr/images/images/val/clean/6.png  \n",
            "  inflating: /tmp/mcr/images/images/val/clean/7.png  \n",
            "  inflating: /tmp/mcr/images/images/val/clean/8.png  \n",
            "  inflating: /tmp/mcr/images/images/val/clean/9.png  \n",
            "   creating: /tmp/mcr/images/images/val/messy/\n",
            "  inflating: /tmp/mcr/images/images/val/messy/0.png  \n",
            "  inflating: /tmp/mcr/images/images/val/messy/1.png  \n",
            "  inflating: /tmp/mcr/images/images/val/messy/2.png  \n",
            " extracting: /tmp/mcr/images/images/val/messy/3.png  \n",
            "  inflating: /tmp/mcr/images/images/val/messy/4.png  \n",
            " extracting: /tmp/mcr/images/images/val/messy/5.png  \n",
            "  inflating: /tmp/mcr/images/images/val/messy/6.png  \n",
            " extracting: /tmp/mcr/images/images/val/messy/7.png  \n",
            "  inflating: /tmp/mcr/images/images/val/messy/8.png  \n",
            "  inflating: /tmp/mcr/images/images/val/messy/9.png  \n",
            "   creating: /tmp/mcr/images/test/\n",
            "  inflating: /tmp/mcr/images/test/0.png  \n",
            "  inflating: /tmp/mcr/images/test/1.png  \n",
            "  inflating: /tmp/mcr/images/test/2.png  \n",
            "  inflating: /tmp/mcr/images/test/3.png  \n",
            "  inflating: /tmp/mcr/images/test/4.png  \n",
            "  inflating: /tmp/mcr/images/test/5.png  \n",
            "  inflating: /tmp/mcr/images/test/6.png  \n",
            "  inflating: /tmp/mcr/images/test/7.png  \n",
            "  inflating: /tmp/mcr/images/test/8.png  \n",
            "  inflating: /tmp/mcr/images/test/9.png  \n",
            "   creating: /tmp/mcr/images/train/\n",
            "   creating: /tmp/mcr/images/train/clean/\n",
            "  inflating: /tmp/mcr/images/train/clean/0.png  \n",
            "  inflating: /tmp/mcr/images/train/clean/1.png  \n",
            "  inflating: /tmp/mcr/images/train/clean/10.png  \n",
            "  inflating: /tmp/mcr/images/train/clean/11.png  \n",
            "  inflating: /tmp/mcr/images/train/clean/12.png  \n",
            "  inflating: /tmp/mcr/images/train/clean/13.png  \n",
            "  inflating: /tmp/mcr/images/train/clean/14.png  \n",
            "  inflating: /tmp/mcr/images/train/clean/15.png  \n",
            "  inflating: /tmp/mcr/images/train/clean/16.png  \n",
            "  inflating: /tmp/mcr/images/train/clean/17.png  \n",
            "  inflating: /tmp/mcr/images/train/clean/18.png  \n",
            "  inflating: /tmp/mcr/images/train/clean/19.png  \n",
            "  inflating: /tmp/mcr/images/train/clean/2.png  \n",
            "  inflating: /tmp/mcr/images/train/clean/20.png  \n",
            "  inflating: /tmp/mcr/images/train/clean/21.png  \n",
            "  inflating: /tmp/mcr/images/train/clean/22.png  \n",
            "  inflating: /tmp/mcr/images/train/clean/23.png  \n",
            "  inflating: /tmp/mcr/images/train/clean/24.png  \n",
            "  inflating: /tmp/mcr/images/train/clean/25.png  \n",
            "  inflating: /tmp/mcr/images/train/clean/26.png  \n",
            "  inflating: /tmp/mcr/images/train/clean/27.png  \n",
            "  inflating: /tmp/mcr/images/train/clean/28.png  \n",
            "  inflating: /tmp/mcr/images/train/clean/29.png  \n",
            "  inflating: /tmp/mcr/images/train/clean/3.png  \n",
            "  inflating: /tmp/mcr/images/train/clean/30.png  \n",
            "  inflating: /tmp/mcr/images/train/clean/31.png  \n",
            "  inflating: /tmp/mcr/images/train/clean/32.png  \n",
            "  inflating: /tmp/mcr/images/train/clean/33.png  \n",
            "  inflating: /tmp/mcr/images/train/clean/34.png  \n",
            "  inflating: /tmp/mcr/images/train/clean/35.png  \n",
            "  inflating: /tmp/mcr/images/train/clean/36.png  \n",
            "  inflating: /tmp/mcr/images/train/clean/37.png  \n",
            "  inflating: /tmp/mcr/images/train/clean/38.png  \n",
            "  inflating: /tmp/mcr/images/train/clean/39.png  \n",
            "  inflating: /tmp/mcr/images/train/clean/4.png  \n",
            "  inflating: /tmp/mcr/images/train/clean/40.png  \n",
            "  inflating: /tmp/mcr/images/train/clean/41.png  \n",
            "  inflating: /tmp/mcr/images/train/clean/42.png  \n",
            "  inflating: /tmp/mcr/images/train/clean/43.png  \n",
            "  inflating: /tmp/mcr/images/train/clean/44.png  \n",
            "  inflating: /tmp/mcr/images/train/clean/45.png  \n",
            "  inflating: /tmp/mcr/images/train/clean/46.png  \n",
            "  inflating: /tmp/mcr/images/train/clean/47.png  \n",
            "  inflating: /tmp/mcr/images/train/clean/48.png  \n",
            "  inflating: /tmp/mcr/images/train/clean/49.png  \n",
            "  inflating: /tmp/mcr/images/train/clean/5.png  \n",
            "  inflating: /tmp/mcr/images/train/clean/50.png  \n",
            "  inflating: /tmp/mcr/images/train/clean/51.png  \n",
            "  inflating: /tmp/mcr/images/train/clean/52.png  \n",
            "  inflating: /tmp/mcr/images/train/clean/53.png  \n",
            "  inflating: /tmp/mcr/images/train/clean/54.png  \n",
            "  inflating: /tmp/mcr/images/train/clean/55.png  \n",
            "  inflating: /tmp/mcr/images/train/clean/56.png  \n",
            "  inflating: /tmp/mcr/images/train/clean/57.png  \n",
            "  inflating: /tmp/mcr/images/train/clean/58.png  \n",
            "  inflating: /tmp/mcr/images/train/clean/59.png  \n",
            "  inflating: /tmp/mcr/images/train/clean/6.png  \n",
            "  inflating: /tmp/mcr/images/train/clean/60.png  \n",
            "  inflating: /tmp/mcr/images/train/clean/61.png  \n",
            "  inflating: /tmp/mcr/images/train/clean/62.png  \n",
            "  inflating: /tmp/mcr/images/train/clean/63.png  \n",
            "  inflating: /tmp/mcr/images/train/clean/64.png  \n",
            "  inflating: /tmp/mcr/images/train/clean/65.png  \n",
            "  inflating: /tmp/mcr/images/train/clean/66.png  \n",
            "  inflating: /tmp/mcr/images/train/clean/67.png  \n",
            "  inflating: /tmp/mcr/images/train/clean/68.png  \n",
            "  inflating: /tmp/mcr/images/train/clean/69.png  \n",
            "  inflating: /tmp/mcr/images/train/clean/7.png  \n",
            "  inflating: /tmp/mcr/images/train/clean/70.png  \n",
            "  inflating: /tmp/mcr/images/train/clean/71.png  \n",
            "  inflating: /tmp/mcr/images/train/clean/72.png  \n",
            "  inflating: /tmp/mcr/images/train/clean/73.png  \n",
            "  inflating: /tmp/mcr/images/train/clean/74.png  \n",
            "  inflating: /tmp/mcr/images/train/clean/75.png  \n",
            "  inflating: /tmp/mcr/images/train/clean/76.png  \n",
            "  inflating: /tmp/mcr/images/train/clean/77.png  \n",
            "  inflating: /tmp/mcr/images/train/clean/78.png  \n",
            "  inflating: /tmp/mcr/images/train/clean/79.png  \n",
            "  inflating: /tmp/mcr/images/train/clean/8.png  \n",
            "  inflating: /tmp/mcr/images/train/clean/80.png  \n",
            "  inflating: /tmp/mcr/images/train/clean/81.png  \n",
            "  inflating: /tmp/mcr/images/train/clean/82.png  \n",
            "  inflating: /tmp/mcr/images/train/clean/83.png  \n",
            "  inflating: /tmp/mcr/images/train/clean/84.png  \n",
            "  inflating: /tmp/mcr/images/train/clean/85.png  \n",
            "  inflating: /tmp/mcr/images/train/clean/86.png  \n",
            "  inflating: /tmp/mcr/images/train/clean/87.png  \n",
            "  inflating: /tmp/mcr/images/train/clean/88.png  \n",
            "  inflating: /tmp/mcr/images/train/clean/89.png  \n",
            "  inflating: /tmp/mcr/images/train/clean/9.png  \n",
            "  inflating: /tmp/mcr/images/train/clean/90.png  \n",
            "  inflating: /tmp/mcr/images/train/clean/91.png  \n",
            "  inflating: /tmp/mcr/images/train/clean/92.png  \n",
            "  inflating: /tmp/mcr/images/train/clean/93.png  \n",
            "  inflating: /tmp/mcr/images/train/clean/94.png  \n",
            "  inflating: /tmp/mcr/images/train/clean/95.png  \n",
            "   creating: /tmp/mcr/images/train/messy/\n",
            "  inflating: /tmp/mcr/images/train/messy/0.png  \n",
            " extracting: /tmp/mcr/images/train/messy/1.png  \n",
            "  inflating: /tmp/mcr/images/train/messy/10.png  \n",
            "  inflating: /tmp/mcr/images/train/messy/11.png  \n",
            "  inflating: /tmp/mcr/images/train/messy/12.png  \n",
            "  inflating: /tmp/mcr/images/train/messy/13.png  \n",
            "  inflating: /tmp/mcr/images/train/messy/14.png  \n",
            " extracting: /tmp/mcr/images/train/messy/15.png  \n",
            " extracting: /tmp/mcr/images/train/messy/16.png  \n",
            "  inflating: /tmp/mcr/images/train/messy/17.png  \n",
            "  inflating: /tmp/mcr/images/train/messy/18.png  \n",
            "  inflating: /tmp/mcr/images/train/messy/19.png  \n",
            "  inflating: /tmp/mcr/images/train/messy/2.png  \n",
            "  inflating: /tmp/mcr/images/train/messy/20.png  \n",
            "  inflating: /tmp/mcr/images/train/messy/21.png  \n",
            "  inflating: /tmp/mcr/images/train/messy/22.png  \n",
            " extracting: /tmp/mcr/images/train/messy/23.png  \n",
            "  inflating: /tmp/mcr/images/train/messy/24.png  \n",
            " extracting: /tmp/mcr/images/train/messy/25.png  \n",
            "  inflating: /tmp/mcr/images/train/messy/26.png  \n",
            " extracting: /tmp/mcr/images/train/messy/27.png  \n",
            " extracting: /tmp/mcr/images/train/messy/28.png  \n",
            "  inflating: /tmp/mcr/images/train/messy/29.png  \n",
            "  inflating: /tmp/mcr/images/train/messy/3.png  \n",
            "  inflating: /tmp/mcr/images/train/messy/30.png  \n",
            "  inflating: /tmp/mcr/images/train/messy/31.png  \n",
            "  inflating: /tmp/mcr/images/train/messy/32.png  \n",
            "  inflating: /tmp/mcr/images/train/messy/33.png  \n",
            "  inflating: /tmp/mcr/images/train/messy/34.png  \n",
            "  inflating: /tmp/mcr/images/train/messy/35.png  \n",
            "  inflating: /tmp/mcr/images/train/messy/36.png  \n",
            "  inflating: /tmp/mcr/images/train/messy/37.png  \n",
            "  inflating: /tmp/mcr/images/train/messy/38.png  \n",
            "  inflating: /tmp/mcr/images/train/messy/39.png  \n",
            "  inflating: /tmp/mcr/images/train/messy/4.png  \n",
            "  inflating: /tmp/mcr/images/train/messy/40.png  \n",
            "  inflating: /tmp/mcr/images/train/messy/41.png  \n",
            "  inflating: /tmp/mcr/images/train/messy/42.png  \n",
            "  inflating: /tmp/mcr/images/train/messy/43.png  \n",
            "  inflating: /tmp/mcr/images/train/messy/44.png  \n",
            "  inflating: /tmp/mcr/images/train/messy/45.png  \n",
            "  inflating: /tmp/mcr/images/train/messy/46.png  \n",
            "  inflating: /tmp/mcr/images/train/messy/47.png  \n",
            "  inflating: /tmp/mcr/images/train/messy/48.png  \n",
            " extracting: /tmp/mcr/images/train/messy/49.png  \n",
            "  inflating: /tmp/mcr/images/train/messy/5.png  \n",
            "  inflating: /tmp/mcr/images/train/messy/50.png  \n",
            "  inflating: /tmp/mcr/images/train/messy/51.png  \n",
            "  inflating: /tmp/mcr/images/train/messy/52.png  \n",
            "  inflating: /tmp/mcr/images/train/messy/53.png  \n",
            " extracting: /tmp/mcr/images/train/messy/54.png  \n",
            " extracting: /tmp/mcr/images/train/messy/55.png  \n",
            "  inflating: /tmp/mcr/images/train/messy/56.png  \n",
            "  inflating: /tmp/mcr/images/train/messy/57.png  \n",
            " extracting: /tmp/mcr/images/train/messy/58.png  \n",
            "  inflating: /tmp/mcr/images/train/messy/59.png  \n",
            "  inflating: /tmp/mcr/images/train/messy/6.png  \n",
            "  inflating: /tmp/mcr/images/train/messy/60.png  \n",
            "  inflating: /tmp/mcr/images/train/messy/61.png  \n",
            "  inflating: /tmp/mcr/images/train/messy/62.png  \n",
            "  inflating: /tmp/mcr/images/train/messy/63.png  \n",
            "  inflating: /tmp/mcr/images/train/messy/64.png  \n",
            "  inflating: /tmp/mcr/images/train/messy/65.png  \n",
            "  inflating: /tmp/mcr/images/train/messy/66.png  \n",
            "  inflating: /tmp/mcr/images/train/messy/67.png  \n",
            "  inflating: /tmp/mcr/images/train/messy/68.png  \n",
            "  inflating: /tmp/mcr/images/train/messy/69.png  \n",
            "  inflating: /tmp/mcr/images/train/messy/7.png  \n",
            "  inflating: /tmp/mcr/images/train/messy/70.png  \n",
            "  inflating: /tmp/mcr/images/train/messy/71.png  \n",
            "  inflating: /tmp/mcr/images/train/messy/72.png  \n",
            " extracting: /tmp/mcr/images/train/messy/73.png  \n",
            "  inflating: /tmp/mcr/images/train/messy/74.png  \n",
            "  inflating: /tmp/mcr/images/train/messy/75.png  \n",
            "  inflating: /tmp/mcr/images/train/messy/76.png  \n",
            "  inflating: /tmp/mcr/images/train/messy/77.png  \n",
            " extracting: /tmp/mcr/images/train/messy/78.png  \n",
            "  inflating: /tmp/mcr/images/train/messy/79.png  \n",
            "  inflating: /tmp/mcr/images/train/messy/8.png  \n",
            "  inflating: /tmp/mcr/images/train/messy/80.png  \n",
            "  inflating: /tmp/mcr/images/train/messy/81.png  \n",
            "  inflating: /tmp/mcr/images/train/messy/82.png  \n",
            "  inflating: /tmp/mcr/images/train/messy/83.png  \n",
            "  inflating: /tmp/mcr/images/train/messy/84.png  \n",
            "  inflating: /tmp/mcr/images/train/messy/85.png  \n",
            "  inflating: /tmp/mcr/images/train/messy/86.png  \n",
            "  inflating: /tmp/mcr/images/train/messy/87.png  \n",
            "  inflating: /tmp/mcr/images/train/messy/88.png  \n",
            "  inflating: /tmp/mcr/images/train/messy/89.png  \n",
            " extracting: /tmp/mcr/images/train/messy/9.png  \n",
            " extracting: /tmp/mcr/images/train/messy/90.png  \n",
            "  inflating: /tmp/mcr/images/train/messy/91.png  \n",
            "  inflating: /tmp/mcr/images/train/messy/92.png  \n",
            "  inflating: /tmp/mcr/images/train/messy/93.png  \n",
            "  inflating: /tmp/mcr/images/train/messy/94.png  \n",
            " extracting: /tmp/mcr/images/train/messy/95.png  \n",
            "   creating: /tmp/mcr/images/val/\n",
            "   creating: /tmp/mcr/images/val/clean/\n",
            "  inflating: /tmp/mcr/images/val/clean/0.png  \n",
            "  inflating: /tmp/mcr/images/val/clean/1.png  \n",
            "  inflating: /tmp/mcr/images/val/clean/2.png  \n",
            "  inflating: /tmp/mcr/images/val/clean/3.png  \n",
            "  inflating: /tmp/mcr/images/val/clean/4.png  \n",
            "  inflating: /tmp/mcr/images/val/clean/5.png  \n",
            "  inflating: /tmp/mcr/images/val/clean/6.png  \n",
            "  inflating: /tmp/mcr/images/val/clean/7.png  \n",
            "  inflating: /tmp/mcr/images/val/clean/8.png  \n",
            "  inflating: /tmp/mcr/images/val/clean/9.png  \n",
            "   creating: /tmp/mcr/images/val/messy/\n",
            "  inflating: /tmp/mcr/images/val/messy/0.png  \n",
            "  inflating: /tmp/mcr/images/val/messy/1.png  \n",
            "  inflating: /tmp/mcr/images/val/messy/2.png  \n",
            " extracting: /tmp/mcr/images/val/messy/3.png  \n",
            "  inflating: /tmp/mcr/images/val/messy/4.png  \n",
            " extracting: /tmp/mcr/images/val/messy/5.png  \n",
            "  inflating: /tmp/mcr/images/val/messy/6.png  \n",
            " extracting: /tmp/mcr/images/val/messy/7.png  \n",
            "  inflating: /tmp/mcr/images/val/messy/8.png  \n",
            "  inflating: /tmp/mcr/images/val/messy/9.png  \n"
          ]
        }
      ]
    },
    {
      "cell_type": "code",
      "source": [
        "os.listdir('/tmp/mcr/images/images')"
      ],
      "metadata": {
        "colab": {
          "base_uri": "https://localhost:8080/"
        },
        "id": "lSVaWKMIUd4e",
        "outputId": "b1f29eed-ac83-486b-c3c1-5968cdc293f1"
      },
      "execution_count": 6,
      "outputs": [
        {
          "output_type": "execute_result",
          "data": {
            "text/plain": [
              "['val', 'test', 'train']"
            ]
          },
          "metadata": {},
          "execution_count": 6
        }
      ]
    },
    {
      "cell_type": "code",
      "source": [
        "# set directory\n",
        "\n",
        "base_dir = '/tmp/mcr/images/images'\n",
        "train_dir = os.path.join(base_dir, 'train')\n",
        "validation_dir = os.path.join(base_dir, 'val')"
      ],
      "metadata": {
        "id": "f4PynWfzhzBo"
      },
      "execution_count": 7,
      "outputs": []
    },
    {
      "cell_type": "code",
      "source": [
        "os.listdir(validation_dir)"
      ],
      "metadata": {
        "colab": {
          "base_uri": "https://localhost:8080/"
        },
        "id": "QTk1abCBh6yw",
        "outputId": "2b2ca0b2-96a1-40d7-e21f-b1e3c23eb07c"
      },
      "execution_count": 8,
      "outputs": [
        {
          "output_type": "execute_result",
          "data": {
            "text/plain": [
              "['clean', 'messy']"
            ]
          },
          "metadata": {},
          "execution_count": 8
        }
      ]
    },
    {
      "cell_type": "code",
      "source": [
        "from tensorflow.keras.preprocessing.image import ImageDataGenerator\n",
        " \n",
        "train_datagen = ImageDataGenerator(\n",
        "                    rescale=1./255,\n",
        "                    rotation_range=20,\n",
        "                    horizontal_flip=True,\n",
        "                    shear_range = 0.2,\n",
        "                    fill_mode = 'nearest')\n",
        " \n",
        "test_datagen = ImageDataGenerator(\n",
        "                    rescale=1./255)"
      ],
      "metadata": {
        "id": "N-c-SuR7is5H"
      },
      "execution_count": 9,
      "outputs": []
    },
    {
      "cell_type": "code",
      "source": [
        "train_generator = train_datagen.flow_from_directory(\n",
        "        train_dir,\n",
        "        target_size=(150, 150),\n",
        "        batch_size=4,\n",
        "        class_mode='binary')\n",
        " \n",
        "validation_generator = test_datagen.flow_from_directory(\n",
        "        validation_dir,\n",
        "        target_size=(150, 150),\n",
        "        batch_size=4,\n",
        "        class_mode='binary')"
      ],
      "metadata": {
        "colab": {
          "base_uri": "https://localhost:8080/"
        },
        "id": "PUmj5iOZjDRH",
        "outputId": "d397f41e-5894-4185-95db-cf26be9dfbbd"
      },
      "execution_count": 10,
      "outputs": [
        {
          "output_type": "stream",
          "name": "stdout",
          "text": [
            "Found 192 images belonging to 2 classes.\n",
            "Found 20 images belonging to 2 classes.\n"
          ]
        }
      ]
    },
    {
      "cell_type": "code",
      "source": [
        "model = tf.keras.models.Sequential([\n",
        "    tf.keras.layers.Conv2D(32, (3,3), activation='relu', input_shape=(150, 150, 3)),\n",
        "    tf.keras.layers.MaxPooling2D(2, 2),\n",
        "    tf.keras.layers.Conv2D(64, (3,3), activation='relu'),\n",
        "    tf.keras.layers.MaxPooling2D(2,2),\n",
        "    tf.keras.layers.Conv2D(128, (3,3), activation='relu'),\n",
        "    tf.keras.layers.MaxPooling2D(2,2),\n",
        "    tf.keras.layers.Conv2D(128, (3,3), activation='relu'),\n",
        "    tf.keras.layers.MaxPooling2D(2,2),\n",
        "    tf.keras.layers.Flatten(),\n",
        "    tf.keras.layers.Dense(512, activation='relu'),\n",
        "    tf.keras.layers.Dense(1, activation='sigmoid')\n",
        "])"
      ],
      "metadata": {
        "id": "PxHCOOEnjX4x"
      },
      "execution_count": 11,
      "outputs": []
    },
    {
      "cell_type": "code",
      "source": [
        "model.summary()"
      ],
      "metadata": {
        "colab": {
          "base_uri": "https://localhost:8080/"
        },
        "id": "bZeoaNbdjeQ3",
        "outputId": "9f13255b-6898-473f-cbcb-783e7fa2b344"
      },
      "execution_count": 12,
      "outputs": [
        {
          "output_type": "stream",
          "name": "stdout",
          "text": [
            "Model: \"sequential\"\n",
            "_________________________________________________________________\n",
            " Layer (type)                Output Shape              Param #   \n",
            "=================================================================\n",
            " conv2d (Conv2D)             (None, 148, 148, 32)      896       \n",
            "                                                                 \n",
            " max_pooling2d (MaxPooling2D  (None, 74, 74, 32)       0         \n",
            " )                                                               \n",
            "                                                                 \n",
            " conv2d_1 (Conv2D)           (None, 72, 72, 64)        18496     \n",
            "                                                                 \n",
            " max_pooling2d_1 (MaxPooling  (None, 36, 36, 64)       0         \n",
            " 2D)                                                             \n",
            "                                                                 \n",
            " conv2d_2 (Conv2D)           (None, 34, 34, 128)       73856     \n",
            "                                                                 \n",
            " max_pooling2d_2 (MaxPooling  (None, 17, 17, 128)      0         \n",
            " 2D)                                                             \n",
            "                                                                 \n",
            " conv2d_3 (Conv2D)           (None, 15, 15, 128)       147584    \n",
            "                                                                 \n",
            " max_pooling2d_3 (MaxPooling  (None, 7, 7, 128)        0         \n",
            " 2D)                                                             \n",
            "                                                                 \n",
            " flatten (Flatten)           (None, 6272)              0         \n",
            "                                                                 \n",
            " dense (Dense)               (None, 512)               3211776   \n",
            "                                                                 \n",
            " dense_1 (Dense)             (None, 1)                 513       \n",
            "                                                                 \n",
            "=================================================================\n",
            "Total params: 3,453,121\n",
            "Trainable params: 3,453,121\n",
            "Non-trainable params: 0\n",
            "_________________________________________________________________\n"
          ]
        }
      ]
    },
    {
      "cell_type": "code",
      "source": [
        "model.compile(loss='binary_crossentropy',\n",
        "              optimizer=tf.optimizers.Adam(),\n",
        "              metrics=['accuracy'])"
      ],
      "metadata": {
        "id": "qHrXEGvokfRw"
      },
      "execution_count": 13,
      "outputs": []
    },
    {
      "cell_type": "code",
      "source": [
        "# latih model dengan model.fit \n",
        "model.fit(\n",
        "      train_generator,\n",
        "      steps_per_epoch=25,\n",
        "      epochs=20,\n",
        "      validation_data=validation_generator,\n",
        "      validation_steps=5,\n",
        "      verbose=2)"
      ],
      "metadata": {
        "colab": {
          "base_uri": "https://localhost:8080/"
        },
        "id": "wMFOepNnkpCD",
        "outputId": "f9806815-231e-4135-e369-3c0061f7007d"
      },
      "execution_count": 14,
      "outputs": [
        {
          "output_type": "stream",
          "name": "stdout",
          "text": [
            "Epoch 1/20\n",
            "25/25 - 8s - loss: 0.7183 - accuracy: 0.4700 - val_loss: 0.6940 - val_accuracy: 0.5000 - 8s/epoch - 306ms/step\n",
            "Epoch 2/20\n",
            "25/25 - 6s - loss: 0.6954 - accuracy: 0.3900 - val_loss: 0.6928 - val_accuracy: 0.5000 - 6s/epoch - 252ms/step\n",
            "Epoch 3/20\n",
            "25/25 - 6s - loss: 0.6726 - accuracy: 0.5900 - val_loss: 0.6754 - val_accuracy: 0.7500 - 6s/epoch - 253ms/step\n",
            "Epoch 4/20\n",
            "25/25 - 6s - loss: 0.6878 - accuracy: 0.5600 - val_loss: 0.6934 - val_accuracy: 0.5000 - 6s/epoch - 253ms/step\n",
            "Epoch 5/20\n",
            "25/25 - 6s - loss: 0.6884 - accuracy: 0.5700 - val_loss: 0.7194 - val_accuracy: 0.5000 - 6s/epoch - 252ms/step\n",
            "Epoch 6/20\n",
            "25/25 - 6s - loss: 0.6959 - accuracy: 0.4800 - val_loss: 0.6923 - val_accuracy: 0.5500 - 6s/epoch - 255ms/step\n",
            "Epoch 7/20\n",
            "25/25 - 6s - loss: 0.6957 - accuracy: 0.4800 - val_loss: 0.6927 - val_accuracy: 0.5000 - 6s/epoch - 254ms/step\n",
            "Epoch 8/20\n",
            "25/25 - 6s - loss: 0.6973 - accuracy: 0.4700 - val_loss: 0.6922 - val_accuracy: 0.5000 - 6s/epoch - 253ms/step\n",
            "Epoch 9/20\n",
            "25/25 - 6s - loss: 0.6932 - accuracy: 0.4900 - val_loss: 0.6926 - val_accuracy: 0.5000 - 6s/epoch - 259ms/step\n",
            "Epoch 10/20\n",
            "25/25 - 6s - loss: 0.6914 - accuracy: 0.6300 - val_loss: 0.6702 - val_accuracy: 0.5500 - 6s/epoch - 254ms/step\n",
            "Epoch 11/20\n",
            "25/25 - 6s - loss: 0.6784 - accuracy: 0.6400 - val_loss: 0.6648 - val_accuracy: 0.9000 - 6s/epoch - 251ms/step\n",
            "Epoch 12/20\n",
            "25/25 - 6s - loss: 0.6952 - accuracy: 0.6100 - val_loss: 0.6774 - val_accuracy: 0.6500 - 6s/epoch - 254ms/step\n",
            "Epoch 13/20\n",
            "25/25 - 6s - loss: 0.6872 - accuracy: 0.5900 - val_loss: 0.6377 - val_accuracy: 0.8000 - 6s/epoch - 257ms/step\n",
            "Epoch 14/20\n",
            "25/25 - 6s - loss: 0.6315 - accuracy: 0.6900 - val_loss: 0.6515 - val_accuracy: 0.5500 - 6s/epoch - 259ms/step\n",
            "Epoch 15/20\n",
            "25/25 - 7s - loss: 0.5830 - accuracy: 0.7000 - val_loss: 0.5342 - val_accuracy: 0.8000 - 7s/epoch - 261ms/step\n",
            "Epoch 16/20\n",
            "25/25 - 6s - loss: 0.6213 - accuracy: 0.6500 - val_loss: 0.5374 - val_accuracy: 0.7500 - 6s/epoch - 255ms/step\n",
            "Epoch 17/20\n",
            "25/25 - 6s - loss: 0.5441 - accuracy: 0.7700 - val_loss: 0.3735 - val_accuracy: 0.8500 - 6s/epoch - 253ms/step\n",
            "Epoch 18/20\n",
            "25/25 - 6s - loss: 0.5639 - accuracy: 0.6700 - val_loss: 0.5473 - val_accuracy: 0.7000 - 6s/epoch - 256ms/step\n",
            "Epoch 19/20\n",
            "25/25 - 6s - loss: 0.5332 - accuracy: 0.7500 - val_loss: 0.5525 - val_accuracy: 0.6500 - 6s/epoch - 255ms/step\n",
            "Epoch 20/20\n",
            "25/25 - 6s - loss: 0.4788 - accuracy: 0.8000 - val_loss: 0.6474 - val_accuracy: 0.6500 - 6s/epoch - 252ms/step\n"
          ]
        },
        {
          "output_type": "execute_result",
          "data": {
            "text/plain": [
              "<keras.callbacks.History at 0x7f68cea61210>"
            ]
          },
          "metadata": {},
          "execution_count": 14
        }
      ]
    },
    {
      "cell_type": "code",
      "source": [
        "import numpy as np\n",
        "from google.colab import files\n",
        "from tensorflow.keras.preprocessing import image\n",
        "import matplotlib.pyplot as plt\n",
        "import matplotlib.image as mpimg\n",
        "import matplotlib.pyplot as plt\n",
        "import matplotlib.image as mpimg\n",
        "%matplotlib inline\n",
        " \n",
        "uploaded = files.upload()\n",
        " \n",
        "for fn in uploaded.keys():\n",
        " \n",
        "  # predicting images\n",
        "  path = fn\n",
        "  img = image.load_img(path, target_size=(150,150))\n",
        " \n",
        "  imgplot = plt.imshow(img)\n",
        "  x = image.img_to_array(img)\n",
        "  x = np.expand_dims(x, axis=0)\n",
        "  images = np.vstack([x])\n",
        " \n",
        "  classes = model.predict(images, batch_size=10)  \n",
        "  print(fn)\n",
        "  if classes!=0:\n",
        "   print('messy')\n",
        "  else:\n",
        "   print('clean')"
      ],
      "metadata": {
        "colab": {
          "resources": {
            "http://localhost:8080/nbextensions/google.colab/files.js": {
              "data": "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",
              "ok": true,
              "headers": [
                [
                  "content-type",
                  "application/javascript"
                ]
              ],
              "status": 200,
              "status_text": ""
            }
          },
          "base_uri": "https://localhost:8080/",
          "height": 362
        },
        "id": "f5fC7Dv3nk_i",
        "outputId": "9e43eefd-1e08-4482-a58f-cab02881199f"
      },
      "execution_count": 15,
      "outputs": [
        {
          "output_type": "display_data",
          "data": {
            "text/plain": [
              "<IPython.core.display.HTML object>"
            ],
            "text/html": [
              "\n",
              "     <input type=\"file\" id=\"files-12b70cdf-4547-4c18-a50b-537391063ee0\" name=\"files[]\" multiple disabled\n",
              "        style=\"border:none\" />\n",
              "     <output id=\"result-12b70cdf-4547-4c18-a50b-537391063ee0\">\n",
              "      Upload widget is only available when the cell has been executed in the\n",
              "      current browser session. Please rerun this cell to enable.\n",
              "      </output>\n",
              "      <script src=\"/nbextensions/google.colab/files.js\"></script> "
            ]
          },
          "metadata": {}
        },
        {
          "output_type": "stream",
          "name": "stdout",
          "text": [
            "Saving download.png to download.png\n",
            "download.png\n",
            "messy\n"
          ]
        },
        {
          "output_type": "display_data",
          "data": {
            "text/plain": [
              "<Figure size 432x288 with 1 Axes>"
            ],
            "image/png": "[encoded data removed]"
          },
          "metadata": {
            "needs_background": "light"
          }
        }
      ]
    }
  ]
}